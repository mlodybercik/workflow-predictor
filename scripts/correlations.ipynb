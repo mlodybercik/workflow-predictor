{
 "cells": [
  {
   "cell_type": "code",
   "execution_count": 181,
   "metadata": {},
   "outputs": [],
   "source": [
    "import csv \n",
    "import scipy.stats\n",
    "import pandas as pd\n",
    "import numpy as np\n",
    "import seaborn as sns\n",
    "from matplotlib import pyplot as plt"
   ]
  },
  {
   "cell_type": "code",
   "execution_count": 154,
   "metadata": {},
   "outputs": [
    {
     "name": "stderr",
     "output_type": "stream",
     "text": [
      "C:\\Users\\xadam\\AppData\\Local\\Temp\\ipykernel_9576\\800544242.py:2: DtypeWarning: Columns (0,6,11,33,36,37) have mixed types. Specify dtype option on import or set low_memory=False.\n",
      "  df = pd.read_csv(file)\n"
     ]
    }
   ],
   "source": [
    "with open(\"data/maestro-calculated.csv\") as file:\n",
    "        df = pd.read_csv(file)\n",
    "        job_names = df['job_name'].unique()\n",
    "        business_days = df['business-day'].unique()\n",
    "        col = "
   ]
  },
  {
   "cell_type": "code",
   "execution_count": 170,
   "metadata": {},
   "outputs": [
    {
     "name": "stdout",
     "output_type": "stream",
     "text": [
      "['rules-branch', 'bsinp-run-id', 'parent_uid', 'flow-type', 'batch-instance-seq', 'business_date', 'skip-mdl-landing', 'hac-run-id', 'as-of-date', 'source-type-is-pb', 'workflow_name', 'setenv', 'source-type-is-ib', 'event-total-time', 'kafka_offset', 'failed-job-status', 'event-waiting-time', 'processing-location-is-sec', 'ib-run-id', 'pb-run-id', 'api-version', 'processing-location-is-pac', 'chf-usd-rate', 'business-day', 'batch-workflow', 'event-processing-time', 'job_name', 'correlation-id', 'uid', 'processing-location-is-eur', 'business-date', 'as-of-datetime', 'processing-location-is-ams', 'process-flag', 'processing-location-is-ch', 'rd-run-id', 'skip-mdl-out', 'scenario-workflow', 'regulatory-approaches']\n",
      "{'open-date-card': {'BD0': 1936, 'BD1': 19, 'BD2': 3, 'BD3': 7, 'BD4': 12, 'BD5': 12, '': {}, 'BD6': 9, 'BD7': 12, 'BD8': 6, 'BD9': 15}, 'init-strategic-batch': {'BD0': 563, 'BD1': 57, 'BD2': 29, 'BD3': 22, 'BD4': 23, 'BD5': 36, '': {}, 'BD6': 31, 'BD7': 35, 'BD8': 34, 'BD9': 38}, 'start-strategic-batch': {'BD0': 2658, 'BD1': 41, 'BD2': 23, 'BD3': 22, 'BD4': 281, 'BD5': 29, '': 1, 'BD6': 237, 'BD7': 32, 'BD8': 28, 'BD9': 27}, 'land-f1ref-data': {'BD0': 14677, 'BD1': 1379, 'BD2': 845, 'BD3': 603, 'BD4': 973, 'BD5': 833, '': 28, 'BD6': 878, 'BD7': 791, 'BD8': 778, 'BD9': 802}, 'reload-f1ref-landing-tables': {'BD0': 19063, 'BD1': 2191, 'BD2': 842, 'BD3': 1051, 'BD4': 819, 'BD5': 1462, '': 29, 'BD6': 1284, 'BD7': 1290, 'BD8': 1164, 'BD9': 1014}, 'land-f1mdl-data': {'BD0': 253255, 'BD1': 29563, 'BD2': 13573, 'BD3': 14480, 'BD4': 14560, 'BD5': 18451, '': 674, 'BD6': 23886, 'BD7': 23822, 'BD8': 23209, 'BD9': 23107}, 'run-data-staging': {'BD0': 149007, 'BD1': 16908, 'BD2': 7088, 'BD3': 8287, 'BD4': 8363, 'BD5': 9134, '': 298, 'BD6': 11162, 'BD7': 12713, 'BD8': 12808, 'BD9': 10703}, 'reload-f1mdl-landing-tables': {'BD0': 165355, 'BD1': 18963, 'BD2': 8480, 'BD3': 7883, 'BD4': 8117, 'BD5': 11340, '': 281, 'BD6': 11766, 'BD7': 11900, 'BD8': 10668, 'BD9': 12002}, 'run-data-harmonization': {'BD0': 255164, 'BD1': 28560, 'BD2': 12000, 'BD3': 12807, 'BD4': 12108, 'BD5': 18598, '': 1327, 'BD6': 18468, 'BD7': 20069, 'BD8': 18410, 'BD9': 18053}, 'reload-staging-tables': {'BD0': 127806, 'BD1': 14853, 'BD2': 6577, 'BD3': 6250, 'BD4': 6304, 'BD5': 8364, '': 315, 'BD6': 8175, 'BD7': 8536, 'BD8': 8402, 'BD9': 8787}, 'complete-strategic-harmonization-job': {'BD0': 1453, 'BD1': 15, 'BD2': 4, 'BD3': 5, 'BD4': 3, 'BD5': 17, '': 1, 'BD6': 9, 'BD7': 128, 'BD8': 34, 'BD9': 7}, 'reload-harmonized-reference-tables': {'BD0': 47269, 'BD1': 5878, 'BD2': 2156, 'BD3': 2111, 'BD4': 2322, 'BD5': 3011, '': 103, 'BD6': 3313, 'BD7': 2976, 'BD8': 2767, 'BD9': 2827}, 'run-b3-calculation': {'BD0': 166767, 'BD1': 21626, 'BD2': 7609, 'BD3': 7614, 'BD4': 7713, 'BD5': 15633, '': 1411, 'BD6': 15784, 'BD7': 16101, 'BD8': 15184, 'BD9': 15576}, 'reload-harmonized-non-reference-tables': {'BD0': 262283, 'BD1': 30483, 'BD2': 11993, 'BD3': 12934, 'BD4': 13146, 'BD5': 17150, '': 676, 'BD6': 17910, 'BD7': 18236, 'BD8': 17718, 'BD9': 17269}, 'b3-calc-completed': {'BD0': 3233, 'BD1': 1603, 'BD2': 34, 'BD3': 1, 'BD4': 225, 'BD5': 534, '': 0, 'BD6': 1676, 'BD7': 1, 'BD8': 186, 'BD9': 0}, 'run-b3ler-calculation': {'BD0': 174739, 'BD1': 25086, 'BD2': 7552, 'BD3': 8397, 'BD4': 8212, 'BD5': 18341, '': 1026, 'BD6': 18236, 'BD7': 20848, 'BD8': 17935, 'BD9': 17742}, 'run-b3std-calculation': {'BD0': 235874, 'BD1': 36626, 'BD2': 11137, 'BD3': 11082, 'BD4': 11185, 'BD5': 28546, '': 1074, 'BD6': 26956, 'BD7': 27995, 'BD8': 26879, 'BD9': 26175}, 'mdl-out-b3': {'BD0': 109890, 'BD1': 15945, 'BD2': 4616, 'BD3': 4929, 'BD4': 5125, 'BD5': 12273, '': {}, 'BD6': 12704, 'BD7': 15439, 'BD8': 11101, 'BD9': 14507}, 'reload-b3-tables': {'BD0': 122301, 'BD1': 12040, 'BD2': 5532, 'BD3': 5375, 'BD4': 5835, 'BD5': 8664, '': 214, 'BD6': 7601, 'BD7': 9756, 'BD8': 8317, 'BD9': 6963}, 'complete-b3-strategic-batch': {'BD0': 2656, 'BD1': 396, 'BD2': 1, 'BD3': 0, 'BD4': 158, 'BD5': 0, '': 0, 'BD6': 633, 'BD7': 1255, 'BD8': 1890, 'BD9': 96}, 'mdl-out-ler': {'BD0': 119251, 'BD1': 15825, 'BD2': 5180, 'BD3': 5155, 'BD4': 5471, 'BD5': 10718, '': {}, 'BD6': 12401, 'BD7': 18832, 'BD8': 12261, 'BD9': 12387}, 'reload-b3ler-tables': {'BD0': 103982, 'BD1': 10683, 'BD2': 5263, 'BD3': 4587, 'BD4': 4744, 'BD5': 5880, '': 180, 'BD6': 7545, 'BD7': 7011, 'BD8': 6622, 'BD9': 6561}, 'strategic-calc-completed': {'BD0': 8881, 'BD1': 2506, 'BD2': 171, 'BD3': 363, 'BD4': 714, 'BD5': 2105, '': 0, 'BD6': 525, 'BD7': 1919, 'BD8': 4585, 'BD9': 122}, 'run-collateral-utilization': {'BD0': 65113, 'BD1': 9049, 'BD2': 2485, 'BD3': 2955, 'BD4': 3669, 'BD5': 5703, '': {}, 'BD6': 4705, 'BD7': 5331, 'BD8': 5967, 'BD9': 4911}, 'mdl-out-b3std': {'BD0': 112308, 'BD1': 17601, 'BD2': 5317, 'BD3': 5217, 'BD4': 6094, 'BD5': 12089, '': {}, 'BD6': 12777, 'BD7': 12939, 'BD8': 12138, 'BD9': 11800}, 'reload-b3std-tables': {'BD0': 95198, 'BD1': 12545, 'BD2': 4187, 'BD3': 4524, 'BD4': 4575, 'BD5': 7211, '': 181, 'BD6': 6689, 'BD7': 6989, 'BD8': 5478, 'BD9': 7636}, 'reload-b3-audit': {'BD0': 101916, 'BD1': 10421, 'BD2': 4900, 'BD3': 4277, 'BD4': 4092, 'BD5': 6750, '': 894, 'BD6': 6547, 'BD7': 7202, 'BD8': 6412, 'BD9': 6331}, 'reload-collateral-utilization': {'BD0': 41783, 'BD1': 7113, 'BD2': 1883, 'BD3': 1831, 'BD4': 2575, 'BD5': 3046, '': {}, 'BD6': 2841, 'BD7': 2805, 'BD8': 2716, 'BD9': 2840}, 'complete-strategic-batch': {'BD0': 3315, 'BD1': 1152, 'BD2': 70, 'BD3': 5, 'BD4': 474, 'BD5': 89, '': 1, 'BD6': 358, 'BD7': 9, 'BD8': 36, 'BD9': 839}, 'reload-b3std-audit': {'BD0': 100275, 'BD1': 10428, 'BD2': 4376, 'BD3': 4467, 'BD4': 6393, 'BD5': 6679, '': 690, 'BD6': 8738, 'BD7': 6427, 'BD8': 7522, 'BD9': 5868}, 'reload-b3ler-audit': {'BD0': 100441, 'BD1': 10462, 'BD2': 4239, 'BD3': 4827, 'BD4': 5161, 'BD5': 6437, '': 801, 'BD6': 7057, 'BD7': 9086, 'BD8': 6192, 'BD9': 6387}, 'f1-notification-trigger': {'BD0': 660, 'BD1': 4, 'BD2': 1, 'BD3': 3, 'BD4': 2, 'BD5': 2, '': {}, 'BD6': 4, 'BD7': 1, 'BD8': 4, 'BD9': 1}, 'run-b3lech-calculation': {'BD0': 107571, 'BD1': 16975, 'BD2': 6126, 'BD3': 4865, 'BD4': 5610, 'BD5': 12648, '': 1271, 'BD6': 12806, 'BD7': 12738, 'BD8': 12165, 'BD9': 11963}, 'mdl-out-lech': {'BD0': 70878, 'BD1': 11724, 'BD2': 2810, 'BD3': 3075, 'BD4': 3280, 'BD5': 9154, '': {}, 'BD6': 9873, 'BD7': 10357, 'BD8': 9194, 'BD9': 11703}, 'reload-b3lech-tables': {'BD0': 61260, 'BD1': 7515, 'BD2': 2853, 'BD3': 2995, 'BD4': 3174, 'BD5': 4071, '': 223, 'BD6': 4851, 'BD7': 4952, 'BD8': 6146, 'BD9': 4269}, 'reload-b3lech-audit': {'BD0': 82539, 'BD1': 8501, 'BD2': 3505, 'BD3': 3946, 'BD4': 3761, 'BD5': 5495, '': 710, 'BD6': 6607, 'BD7': 5983, 'BD8': 5392, 'BD9': 5808}, 'skip-regional-batches': {'BD0': 963, 'BD1': 13, 'BD2': 5, 'BD3': 4, 'BD4': 4, 'BD5': 8, '': {}, 'BD6': 331, 'BD7': 9, 'BD8': 3147, 'BD9': 7}, 'init-securitization-batch': {'BD0': 1171, 'BD1': 26, 'BD2': 4, 'BD3': 7, 'BD4': 6, 'BD5': 12, '': 1, 'BD6': 12, 'BD7': 16, 'BD8': 16, 'BD9': 13}, 'start-securitization-batch': {'BD0': 673, 'BD1': 22, 'BD2': 6, 'BD3': 8, 'BD4': 8, 'BD5': 16, '': 16, 'BD6': 19, 'BD7': 19, 'BD8': 18, 'BD9': 15}, 'run-sec-tactical-staging': {'BD0': 44187, 'BD1': 5620, 'BD2': 2107, 'BD3': 2474, 'BD4': 1885, 'BD5': 3399, '': 6840, 'BD6': 3926, 'BD7': 3717, 'BD8': 5288, 'BD9': 3812}, 'run-b3-securitization': {'BD0': 34806, 'BD1': 9131, 'BD2': 1838, 'BD3': 1619, 'BD4': 1910, 'BD5': 7219, '': 12073, 'BD6': 9913, 'BD7': 10465, 'BD8': 9500, 'BD9': 9775}, 'mdl-out-b3-with-securitization': {'BD0': 14679, 'BD1': 4273, 'BD2': 1020, 'BD3': 688, 'BD4': 990, 'BD5': 5111, '': 5870, 'BD6': 6038, 'BD7': 5469, 'BD8': 5404, 'BD9': 5925}, 'reload-securitization-tables-b3': {'BD0': 70084, 'BD1': 12205, 'BD2': 3149, 'BD3': 3087, 'BD4': 3289, 'BD5': 6312, '': 12153, 'BD6': 7911, 'BD7': 8090, 'BD8': 6564, 'BD9': 7255}, 'complete-b3-securitization-batch': {'BD0': 1098, 'BD1': 96, 'BD2': 0, 'BD3': 1, 'BD4': 0, 'BD5': 647, '': 1, 'BD6': 418, 'BD7': 422, 'BD8': 1, 'BD9': 643}, 'complete-strategic-batch-sec': {'BD0': 1086, 'BD1': 447, 'BD2': 4, 'BD3': 4, 'BD4': 3, 'BD5': 7, '': 1, 'BD6': 8, 'BD7': 10, 'BD8': 176, 'BD9': 8}, 'run-lech-securitization': {'BD0': 22410, 'BD1': 10875, 'BD2': 932, 'BD3': 868, 'BD4': 859, 'BD5': 11572, '': 8747, 'BD6': 14057, 'BD7': 11287, 'BD8': 10366, 'BD9': 10391}, 'run-b3std-securitization': {'BD0': 34157, 'BD1': 10605, 'BD2': 2730, 'BD3': 1512, 'BD4': 1473, 'BD5': 9646, '': 9096, 'BD6': 9548, 'BD7': 9239, 'BD8': 9314, 'BD9': 10139}, 'mdl-out-lech-with-securitization': {'BD0': 8417, 'BD1': 8198, 'BD2': 959, 'BD3': 373, 'BD4': 327, 'BD5': 5914, '': 5522, 'BD6': 7967, 'BD7': 6520, 'BD8': 6121, 'BD9': 6119}, 'reload-securitization-tables-lech': {'BD0': 53624, 'BD1': 10328, 'BD2': 2223, 'BD3': 2383, 'BD4': 2582, 'BD5': 8336, '': 7663, 'BD6': 7616, 'BD7': 7046, 'BD8': 7954, 'BD9': 7068}, 'mdl-out-b3std-with-securitization': {'BD0': 16671, 'BD1': 5214, 'BD2': 605, 'BD3': 686, 'BD4': 626, 'BD5': 4474, '': 4751, 'BD6': 9937, 'BD7': 4750, 'BD8': 5081, 'BD9': 5826}, 'reload-securitization-tables-b3std': {'BD0': 65034, 'BD1': 11798, 'BD2': 2838, 'BD3': 3027, 'BD4': 3100, 'BD5': 8205, '': 11269, 'BD6': 9083, 'BD7': 8852, 'BD8': 7452, 'BD9': 7806}, 'complete-securitization-batch': {'BD0': 56, 'BD1': 9, 'BD2': 2, 'BD3': 0, 'BD4': 6, 'BD5': 8, '': 4, 'BD6': 1656, 'BD7': 5, 'BD8': 781, 'BD9': 7}, 'reload-tactical-tables-post-securitization': {'BD0': 11210, 'BD1': 1648, 'BD2': 448, 'BD3': 496, 'BD4': 761, 'BD5': 1446, '': 1782, 'BD6': 1918, 'BD7': 1410, 'BD8': 1644, 'BD9': 1238}, 'run-b3lvr-calculation': {'BD0': {}, 'BD1': 7704, 'BD2': {}, 'BD3': {}, 'BD4': {}, 'BD5': 9303, '': 933, 'BD6': 9060, 'BD7': 9050, 'BD8': 9358, 'BD9': 8949}, 'reload-b3lvr-tables': {'BD0': {}, 'BD1': 775, 'BD2': {}, 'BD3': {}, 'BD4': {}, 'BD5': 766, '': 143, 'BD6': 1381, 'BD7': 870, 'BD8': 716, 'BD9': 1420}, 'mdl-out-lvr': {'BD0': {}, 'BD1': 4202, 'BD2': {}, 'BD3': {}, 'BD4': {}, 'BD5': 4913, '': {}, 'BD6': 4684, 'BD7': 4471, 'BD8': 4780, 'BD9': 4838}, 'reload-b3lvr-audit': {'BD0': {}, 'BD1': 1676, 'BD2': {}, 'BD3': {}, 'BD4': {}, 'BD5': 2087, '': 791, 'BD6': 1951, 'BD7': 2093, 'BD8': 1974, 'BD9': 2173}, 'run-lvr-securitization': {'BD0': {}, 'BD1': 2787, 'BD2': {}, 'BD3': {}, 'BD4': {}, 'BD5': 3167, '': {}, 'BD6': 4122, 'BD7': 4225, 'BD8': 3017, 'BD9': 5581}, 'mdl-out-lvr-with-securitization': {'BD0': {}, 'BD1': 2163, 'BD2': {}, 'BD3': {}, 'BD4': {}, 'BD5': 2477, '': 2692, 'BD6': 8303, 'BD7': 4542, 'BD8': 4164, 'BD9': 3791}, 'reload-securitization-tables-lvr': {'BD0': {}, 'BD1': 5012, 'BD2': {}, 'BD3': {}, 'BD4': {}, 'BD5': 5191, '': 2788, 'BD6': 6786, 'BD7': 6121, 'BD8': 7023, 'BD9': 6330}}\n"
     ]
    }
   ],
   "source": [
    "with open(\"data/maestro-calculated.csv\") as file:\n",
    "        reader = csv.DictReader(file, lineterminator=\"\\n\")\n",
    "        headers = list(reader.fieldnames)\n",
    "        print(headers)\n",
    "        times_dict = {job : {bd : {} for bd in business_days} for job in job_names}\n",
    "        for row in reader:\n",
    "                if not times_dict[row['job_name']][row['business-day']]:\n",
    "                        times_dict[row['job_name']][row['business-day']] = int(row['event-total-time'])\n",
    "                else:\n",
    "                        times_dict[row['job_name']][row['business-day']] += int(row['event-total-time'])\n",
    "        print(times_dict)"
   ]
  },
  {
   "cell_type": "code",
   "execution_count": 184,
   "metadata": {},
   "outputs": [
    {
     "name": "stdout",
     "output_type": "stream",
     "text": [
      "    open-date-card init-strategic-batch  start-strategic-batch  \\\n",
      "BD0           1936                  563                   2658   \n",
      "BD1             19                   57                     41   \n",
      "BD2              3                   29                     23   \n",
      "BD3              7                   22                     22   \n",
      "BD4             12                   23                    281   \n",
      "BD5             12                   36                     29   \n",
      "                {}                   {}                      1   \n",
      "BD6              9                   31                    237   \n",
      "BD7             12                   35                     32   \n",
      "BD8              6                   34                     28   \n",
      "BD9             15                   38                     27   \n",
      "\n",
      "     land-f1ref-data  reload-f1ref-landing-tables  land-f1mdl-data  \\\n",
      "BD0            14677                        19063           253255   \n",
      "BD1             1379                         2191            29563   \n",
      "BD2              845                          842            13573   \n",
      "BD3              603                         1051            14480   \n",
      "BD4              973                          819            14560   \n",
      "BD5              833                         1462            18451   \n",
      "                  28                           29              674   \n",
      "BD6              878                         1284            23886   \n",
      "BD7              791                         1290            23822   \n",
      "BD8              778                         1164            23209   \n",
      "BD9              802                         1014            23107   \n",
      "\n",
      "     run-data-staging  reload-f1mdl-landing-tables  run-data-harmonization  \\\n",
      "BD0            149007                       165355                  255164   \n",
      "BD1             16908                        18963                   28560   \n",
      "BD2              7088                         8480                   12000   \n",
      "BD3              8287                         7883                   12807   \n",
      "BD4              8363                         8117                   12108   \n",
      "BD5              9134                        11340                   18598   \n",
      "                  298                          281                    1327   \n",
      "BD6             11162                        11766                   18468   \n",
      "BD7             12713                        11900                   20069   \n",
      "BD8             12808                        10668                   18410   \n",
      "BD9             10703                        12002                   18053   \n",
      "\n",
      "     reload-staging-tables  ...  reload-securitization-tables-b3std  \\\n",
      "BD0                 127806  ...                               65034   \n",
      "BD1                  14853  ...                               11798   \n",
      "BD2                   6577  ...                                2838   \n",
      "BD3                   6250  ...                                3027   \n",
      "BD4                   6304  ...                                3100   \n",
      "BD5                   8364  ...                                8205   \n",
      "                       315  ...                               11269   \n",
      "BD6                   8175  ...                                9083   \n",
      "BD7                   8536  ...                                8852   \n",
      "BD8                   8402  ...                                7452   \n",
      "BD9                   8787  ...                                7806   \n",
      "\n",
      "     complete-securitization-batch  \\\n",
      "BD0                             56   \n",
      "BD1                              9   \n",
      "BD2                              2   \n",
      "BD3                              0   \n",
      "BD4                              6   \n",
      "BD5                              8   \n",
      "                                 4   \n",
      "BD6                           1656   \n",
      "BD7                              5   \n",
      "BD8                            781   \n",
      "BD9                              7   \n",
      "\n",
      "     reload-tactical-tables-post-securitization  run-b3lvr-calculation  \\\n",
      "BD0                                       11210                     {}   \n",
      "BD1                                        1648                   7704   \n",
      "BD2                                         448                     {}   \n",
      "BD3                                         496                     {}   \n",
      "BD4                                         761                     {}   \n",
      "BD5                                        1446                   9303   \n",
      "                                           1782                    933   \n",
      "BD6                                        1918                   9060   \n",
      "BD7                                        1410                   9050   \n",
      "BD8                                        1644                   9358   \n",
      "BD9                                        1238                   8949   \n",
      "\n",
      "     reload-b3lvr-tables  mdl-out-lvr  reload-b3lvr-audit  \\\n",
      "BD0                   {}           {}                  {}   \n",
      "BD1                  775         4202                1676   \n",
      "BD2                   {}           {}                  {}   \n",
      "BD3                   {}           {}                  {}   \n",
      "BD4                   {}           {}                  {}   \n",
      "BD5                  766         4913                2087   \n",
      "                     143           {}                 791   \n",
      "BD6                 1381         4684                1951   \n",
      "BD7                  870         4471                2093   \n",
      "BD8                  716         4780                1974   \n",
      "BD9                 1420         4838                2173   \n",
      "\n",
      "    run-lvr-securitization  mdl-out-lvr-with-securitization  \\\n",
      "BD0                     {}                               {}   \n",
      "BD1                   2787                             2163   \n",
      "BD2                     {}                               {}   \n",
      "BD3                     {}                               {}   \n",
      "BD4                     {}                               {}   \n",
      "BD5                   3167                             2477   \n",
      "                        {}                             2692   \n",
      "BD6                   4122                             8303   \n",
      "BD7                   4225                             4542   \n",
      "BD8                   3017                             4164   \n",
      "BD9                   5581                             3791   \n",
      "\n",
      "     reload-securitization-tables-lvr  \n",
      "BD0                                {}  \n",
      "BD1                              5012  \n",
      "BD2                                {}  \n",
      "BD3                                {}  \n",
      "BD4                                {}  \n",
      "BD5                              5191  \n",
      "                                 2788  \n",
      "BD6                              6786  \n",
      "BD7                              6121  \n",
      "BD8                              7023  \n",
      "BD9                              6330  \n",
      "\n",
      "[11 rows x 60 columns]\n"
     ]
    }
   ],
   "source": []
  },
  {
   "cell_type": "code",
   "execution_count": null,
   "metadata": {},
   "outputs": [],
   "source": []
  }
 ],
 "metadata": {
  "kernelspec": {
   "display_name": "Python 3",
   "language": "python",
   "name": "python3"
  },
  "language_info": {
   "codemirror_mode": {
    "name": "ipython",
    "version": 3
   },
   "file_extension": ".py",
   "mimetype": "text/x-python",
   "name": "python",
   "nbconvert_exporter": "python",
   "pygments_lexer": "ipython3",
   "version": "3.9.13"
  },
  "orig_nbformat": 4
 },
 "nbformat": 4,
 "nbformat_minor": 2
}
