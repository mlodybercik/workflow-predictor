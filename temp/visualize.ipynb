{
 "cells": [
  {
   "cell_type": "code",
   "execution_count": 148,
   "metadata": {},
   "outputs": [],
   "source": [
    "import pandas as pd\n",
    "import matplotlib.pyplot as plt\n",
    "import numpy as np\n",
    "import sklearn.preprocessing as sk_pre\n",
    "import sklearn.decomposition as sk_dec\n",
    "import sklearn.model_selection as sk_mos\n",
    "import prince"
   ]
  },
  {
   "cell_type": "code",
   "execution_count": 11,
   "metadata": {},
   "outputs": [],
   "source": [
    "maestro_data = pd.read_csv(\"../data/maestro-calculated.csv\", low_memory=False)"
   ]
  },
  {
   "cell_type": "code",
   "execution_count": 12,
   "metadata": {},
   "outputs": [
    {
     "data": {
      "text/plain": [
       "Index(['business_date', 'parent_uid', 'as-of-date', 'as-of-datetime',\n",
       "       'batch-workflow', 'skip-mdl-out', 'workflow_name', 'flow-type',\n",
       "       'rules-branch', 'uid', 'business-date', 'business-day',\n",
       "       'event_success_time', 'cmd_success_time', 'batch-instance-seq',\n",
       "       'cmd_processing_time', 'ib-run-id', 'processing-location', 'hac-run-id',\n",
       "       'regulatory-approaches', 'event_processing_time', 'job_name'],\n",
       "      dtype='object')"
      ]
     },
     "execution_count": 12,
     "metadata": {},
     "output_type": "execute_result"
    }
   ],
   "source": [
    "maestro_data.columns"
   ]
  },
  {
   "cell_type": "code",
   "execution_count": 90,
   "metadata": {},
   "outputs": [
    {
     "name": "stdout",
     "output_type": "stream",
     "text": [
      "['BD0' 'BD1' 'BD2' 'BD3' 'BD4' 'BD5' nan 'BD6' 'BD7' 'BD8' 'BD9']\n"
     ]
    }
   ],
   "source": [
    "jobs = maestro_data[\"job_name\"].unique()\n",
    "business_day = maestro_data[\"business-day\"].unique()\n",
    "print(business_day)"
   ]
  },
  {
   "cell_type": "code",
   "execution_count": 99,
   "metadata": {},
   "outputs": [
    {
     "name": "stdout",
     "output_type": "stream",
     "text": [
      "run-b3std-calculation, has no entries for BD == nan\n"
     ]
    },
    {
     "data": {
      "image/png": "[encoded data removed]",
      "text/plain": [
       "<Figure size 2200x200 with 11 Axes>"
      ]
     },
     "metadata": {},
     "output_type": "display_data"
    }
   ],
   "source": [
    "N = 16\n",
    "COLUMN_NAME = \"event_success_time\"\n",
    "fig, ax = plt.subplots(1, len(business_day), figsize=(2*len(business_day), 2), sharey=True)\n",
    "for i, bd in enumerate(business_day):\n",
    "    ax[i].xaxis.set_visible(False)\n",
    "    arr = maestro_data.filter(like=COLUMN_NAME)[(maestro_data[\"job_name\"] == jobs[N]) & (maestro_data[\"business-day\"] == bd)]\n",
    "    nparr = arr.to_numpy()\n",
    "    try:\n",
    "        q01, q99 = np.quantile(nparr, 0.05), np.quantile(nparr, 0.95)\n",
    "        ax[i].violinplot(arr[(q01 < arr[\"event_success_time\"]) & (arr[\"event_success_time\"] < q99)], range(1), )\n",
    "    except:\n",
    "        print(f\"{jobs[N]}, has no entries for BD == {bd}\")"
   ]
  },
  {
   "cell_type": "code",
   "execution_count": 199,
   "metadata": {},
   "outputs": [],
   "source": [
    "N = 16\n",
    "columns_label = {\"skip-mdl-out\", \"batch-workflow\", \"flow-type\",\n",
    "    \"rules-branch\", \"business-day\", \"batch-instance-seq\", \"ib-run-id\",\n",
    "    \"hac-run-id\", \"regulatory-approaches\", \"processing-location\"\n",
    "}\n",
    "# \"event_success_time\"\n",
    "labelizer = dict.fromkeys(columns_label, None)\n",
    "maestro_cut = maestro_data[list(columns_label) + [\"event_success_time\"]][maestro_data[\"job_name\"] == jobs[N]]\n",
    "# maestro_times = maestro_cut.pop(\"event_success_time\")"
   ]
  },
  {
   "cell_type": "code",
   "execution_count": 185,
   "metadata": {},
   "outputs": [
    {
     "data": {
      "text/html": [
       "<style>#sk-container-id-7 {color: black;background-color: white;}#sk-container-id-7 pre{padding: 0;}#sk-container-id-7 div.sk-toggleable {background-color: white;}#sk-container-id-7 label.sk-toggleable__label {cursor: pointer;display: block;width: 100%;margin-bottom: 0;padding: 0.3em;box-sizing: border-box;text-align: center;}#sk-container-id-7 label.sk-toggleable__label-arrow:before {content: \"▸\";float: left;margin-right: 0.25em;color: #696969;}#sk-container-id-7 label.sk-toggleable__label-arrow:hover:before {color: black;}#sk-container-id-7 div.sk-estimator:hover label.sk-toggleable__label-arrow:before {color: black;}#sk-container-id-7 div.sk-toggleable__content {max-height: 0;max-width: 0;overflow: hidden;text-align: left;background-color: #f0f8ff;}#sk-container-id-7 div.sk-toggleable__content pre {margin: 0.2em;color: black;border-radius: 0.25em;background-color: #f0f8ff;}#sk-container-id-7 input.sk-toggleable__control:checked~div.sk-toggleable__content {max-height: 200px;max-width: 100%;overflow: auto;}#sk-container-id-7 input.sk-toggleable__control:checked~label.sk-toggleable__label-arrow:before {content: \"▾\";}#sk-container-id-7 div.sk-estimator input.sk-toggleable__control:checked~label.sk-toggleable__label {background-color: #d4ebff;}#sk-container-id-7 div.sk-label input.sk-toggleable__control:checked~label.sk-toggleable__label {background-color: #d4ebff;}#sk-container-id-7 input.sk-hidden--visually {border: 0;clip: rect(1px 1px 1px 1px);clip: rect(1px, 1px, 1px, 1px);height: 1px;margin: -1px;overflow: hidden;padding: 0;position: absolute;width: 1px;}#sk-container-id-7 div.sk-estimator {font-family: monospace;background-color: #f0f8ff;border: 1px dotted black;border-radius: 0.25em;box-sizing: border-box;margin-bottom: 0.5em;}#sk-container-id-7 div.sk-estimator:hover {background-color: #d4ebff;}#sk-container-id-7 div.sk-parallel-item::after {content: \"\";width: 100%;border-bottom: 1px solid gray;flex-grow: 1;}#sk-container-id-7 div.sk-label:hover label.sk-toggleable__label {background-color: #d4ebff;}#sk-container-id-7 div.sk-serial::before {content: \"\";position: absolute;border-left: 1px solid gray;box-sizing: border-box;top: 0;bottom: 0;left: 50%;z-index: 0;}#sk-container-id-7 div.sk-serial {display: flex;flex-direction: column;align-items: center;background-color: white;padding-right: 0.2em;padding-left: 0.2em;position: relative;}#sk-container-id-7 div.sk-item {position: relative;z-index: 1;}#sk-container-id-7 div.sk-parallel {display: flex;align-items: stretch;justify-content: center;background-color: white;position: relative;}#sk-container-id-7 div.sk-item::before, #sk-container-id-7 div.sk-parallel-item::before {content: \"\";position: absolute;border-left: 1px solid gray;box-sizing: border-box;top: 0;bottom: 0;left: 50%;z-index: -1;}#sk-container-id-7 div.sk-parallel-item {display: flex;flex-direction: column;z-index: 1;position: relative;background-color: white;}#sk-container-id-7 div.sk-parallel-item:first-child::after {align-self: flex-end;width: 50%;}#sk-container-id-7 div.sk-parallel-item:last-child::after {align-self: flex-start;width: 50%;}#sk-container-id-7 div.sk-parallel-item:only-child::after {width: 0;}#sk-container-id-7 div.sk-dashed-wrapped {border: 1px dashed gray;margin: 0 0.4em 0.5em 0.4em;box-sizing: border-box;padding-bottom: 0.4em;background-color: white;}#sk-container-id-7 div.sk-label label {font-family: monospace;font-weight: bold;display: inline-block;line-height: 1.2em;}#sk-container-id-7 div.sk-label-container {text-align: center;}#sk-container-id-7 div.sk-container {/* jupyter's `normalize.less` sets `[hidden] { display: none; }` but bootstrap.min.css set `[hidden] { display: none !important; }` so we also need the `!important` here to be able to override the default hidden behavior on the sphinx rendered scikit-learn.org. See: https://github.com/scikit-learn/scikit-learn/issues/21755 */display: inline-block !important;position: relative;}#sk-container-id-7 div.sk-text-repr-fallback {display: none;}</style><div id=\"sk-container-id-7\" class=\"sk-top-container\"><div class=\"sk-text-repr-fallback\"><pre>FactorAnalysis()</pre><b>In a Jupyter environment, please rerun this cell to show the HTML representation or trust the notebook. <br />On GitHub, the HTML representation is unable to render, please try loading this page with nbviewer.org.</b></div><div class=\"sk-container\" hidden><div class=\"sk-item\"><div class=\"sk-estimator sk-toggleable\"><input class=\"sk-toggleable__control sk-hidden--visually\" id=\"sk-estimator-id-7\" type=\"checkbox\" checked><label for=\"sk-estimator-id-7\" class=\"sk-toggleable__label sk-toggleable__label-arrow\">FactorAnalysis</label><div class=\"sk-toggleable__content\"><pre>FactorAnalysis()</pre></div></div></div></div></div>"
      ],
      "text/plain": [
       "FactorAnalysis()"
      ]
     },
     "execution_count": 185,
     "metadata": {},
     "output_type": "execute_result"
    }
   ],
   "source": [
    "# for i, item in enumerate(list(columns_label)):\n",
    "#     labelizer[item] = sk_pre.LabelEncoder()\n",
    "#     labelizer[item].fit(list(set(maestro_cut[item])))\n",
    "#     maestro_cut[item] = labelizer[item].fit_transform(maestro_cut[item])\n",
    "\n",
    "# x_train, x_test, y_train, y_test = sk_mos.train_test_split(maestro_cut, maestro_times)\n",
    "\n",
    "# decomp = sk_dec.FactorAnalysis()\n",
    "# decomp.fit(x_train)"
   ]
  },
  {
   "cell_type": "code",
   "execution_count": 203,
   "metadata": {},
   "outputs": [
    {
     "data": {
      "text/html": [
       "<style>#sk-container-id-13 {color: black;background-color: white;}#sk-container-id-13 pre{padding: 0;}#sk-container-id-13 div.sk-toggleable {background-color: white;}#sk-container-id-13 label.sk-toggleable__label {cursor: pointer;display: block;width: 100%;margin-bottom: 0;padding: 0.3em;box-sizing: border-box;text-align: center;}#sk-container-id-13 label.sk-toggleable__label-arrow:before {content: \"▸\";float: left;margin-right: 0.25em;color: #696969;}#sk-container-id-13 label.sk-toggleable__label-arrow:hover:before {color: black;}#sk-container-id-13 div.sk-estimator:hover label.sk-toggleable__label-arrow:before {color: black;}#sk-container-id-13 div.sk-toggleable__content {max-height: 0;max-width: 0;overflow: hidden;text-align: left;background-color: #f0f8ff;}#sk-container-id-13 div.sk-toggleable__content pre {margin: 0.2em;color: black;border-radius: 0.25em;background-color: #f0f8ff;}#sk-container-id-13 input.sk-toggleable__control:checked~div.sk-toggleable__content {max-height: 200px;max-width: 100%;overflow: auto;}#sk-container-id-13 input.sk-toggleable__control:checked~label.sk-toggleable__label-arrow:before {content: \"▾\";}#sk-container-id-13 div.sk-estimator input.sk-toggleable__control:checked~label.sk-toggleable__label {background-color: #d4ebff;}#sk-container-id-13 div.sk-label input.sk-toggleable__control:checked~label.sk-toggleable__label {background-color: #d4ebff;}#sk-container-id-13 input.sk-hidden--visually {border: 0;clip: rect(1px 1px 1px 1px);clip: rect(1px, 1px, 1px, 1px);height: 1px;margin: -1px;overflow: hidden;padding: 0;position: absolute;width: 1px;}#sk-container-id-13 div.sk-estimator {font-family: monospace;background-color: #f0f8ff;border: 1px dotted black;border-radius: 0.25em;box-sizing: border-box;margin-bottom: 0.5em;}#sk-container-id-13 div.sk-estimator:hover {background-color: #d4ebff;}#sk-container-id-13 div.sk-parallel-item::after {content: \"\";width: 100%;border-bottom: 1px solid gray;flex-grow: 1;}#sk-container-id-13 div.sk-label:hover label.sk-toggleable__label {background-color: #d4ebff;}#sk-container-id-13 div.sk-serial::before {content: \"\";position: absolute;border-left: 1px solid gray;box-sizing: border-box;top: 0;bottom: 0;left: 50%;z-index: 0;}#sk-container-id-13 div.sk-serial {display: flex;flex-direction: column;align-items: center;background-color: white;padding-right: 0.2em;padding-left: 0.2em;position: relative;}#sk-container-id-13 div.sk-item {position: relative;z-index: 1;}#sk-container-id-13 div.sk-parallel {display: flex;align-items: stretch;justify-content: center;background-color: white;position: relative;}#sk-container-id-13 div.sk-item::before, #sk-container-id-13 div.sk-parallel-item::before {content: \"\";position: absolute;border-left: 1px solid gray;box-sizing: border-box;top: 0;bottom: 0;left: 50%;z-index: -1;}#sk-container-id-13 div.sk-parallel-item {display: flex;flex-direction: column;z-index: 1;position: relative;background-color: white;}#sk-container-id-13 div.sk-parallel-item:first-child::after {align-self: flex-end;width: 50%;}#sk-container-id-13 div.sk-parallel-item:last-child::after {align-self: flex-start;width: 50%;}#sk-container-id-13 div.sk-parallel-item:only-child::after {width: 0;}#sk-container-id-13 div.sk-dashed-wrapped {border: 1px dashed gray;margin: 0 0.4em 0.5em 0.4em;box-sizing: border-box;padding-bottom: 0.4em;background-color: white;}#sk-container-id-13 div.sk-label label {font-family: monospace;font-weight: bold;display: inline-block;line-height: 1.2em;}#sk-container-id-13 div.sk-label-container {text-align: center;}#sk-container-id-13 div.sk-container {/* jupyter's `normalize.less` sets `[hidden] { display: none; }` but bootstrap.min.css set `[hidden] { display: none !important; }` so we also need the `!important` here to be able to override the default hidden behavior on the sphinx rendered scikit-learn.org. See: https://github.com/scikit-learn/scikit-learn/issues/21755 */display: inline-block !important;position: relative;}#sk-container-id-13 div.sk-text-repr-fallback {display: none;}</style><div id=\"sk-container-id-13\" class=\"sk-top-container\"><div class=\"sk-text-repr-fallback\"><pre>FAMD(n_components=11, n_iter=30)</pre><b>In a Jupyter environment, please rerun this cell to show the HTML representation or trust the notebook. <br />On GitHub, the HTML representation is unable to render, please try loading this page with nbviewer.org.</b></div><div class=\"sk-container\" hidden><div class=\"sk-item\"><div class=\"sk-estimator sk-toggleable\"><input class=\"sk-toggleable__control sk-hidden--visually\" id=\"sk-estimator-id-13\" type=\"checkbox\" checked><label for=\"sk-estimator-id-13\" class=\"sk-toggleable__label sk-toggleable__label-arrow\">FAMD</label><div class=\"sk-toggleable__content\"><pre>FAMD(n_components=11, n_iter=30)</pre></div></div></div></div></div>"
      ],
      "text/plain": [
       "FAMD(n_components=11, n_iter=30)"
      ]
     },
     "execution_count": 203,
     "metadata": {},
     "output_type": "execute_result"
    }
   ],
   "source": [
    "famd = prince.FAMD(n_components=11, n_iter=30, copy=True)\n",
    "famd.fit(maestro_cut)"
   ]
  },
  {
   "cell_type": "code",
   "execution_count": 208,
   "metadata": {},
   "outputs": [
    {
     "data": {
      "text/html": [
       "<div>\n",
       "<style scoped>\n",
       "    .dataframe tbody tr th:only-of-type {\n",
       "        vertical-align: middle;\n",
       "    }\n",
       "\n",
       "    .dataframe tbody tr th {\n",
       "        vertical-align: top;\n",
       "    }\n",
       "\n",
       "    .dataframe thead th {\n",
       "        text-align: right;\n",
       "    }\n",
       "</style>\n",
       "<table border=\"1\" class=\"dataframe\">\n",
       "  <thead>\n",
       "    <tr style=\"text-align: right;\">\n",
       "      <th>component</th>\n",
       "      <th>0</th>\n",
       "      <th>1</th>\n",
       "      <th>2</th>\n",
       "      <th>3</th>\n",
       "      <th>4</th>\n",
       "      <th>5</th>\n",
       "      <th>6</th>\n",
       "      <th>7</th>\n",
       "      <th>8</th>\n",
       "      <th>9</th>\n",
       "      <th>10</th>\n",
       "    </tr>\n",
       "    <tr>\n",
       "      <th>variable</th>\n",
       "      <th></th>\n",
       "      <th></th>\n",
       "      <th></th>\n",
       "      <th></th>\n",
       "      <th></th>\n",
       "      <th></th>\n",
       "      <th></th>\n",
       "      <th></th>\n",
       "      <th></th>\n",
       "      <th></th>\n",
       "      <th></th>\n",
       "    </tr>\n",
       "  </thead>\n",
       "  <tbody>\n",
       "    <tr>\n",
       "      <th>batch-instance-seq</th>\n",
       "      <td>3.017140e-05</td>\n",
       "      <td>1.933628e-04</td>\n",
       "      <td>5.625723e-03</td>\n",
       "      <td>1.921728e-03</td>\n",
       "      <td>2.473966e-04</td>\n",
       "      <td>8.657089e-07</td>\n",
       "      <td>8.264107e-04</td>\n",
       "      <td>4.516209e-25</td>\n",
       "      <td>5.255289e-28</td>\n",
       "      <td>5.217056e-28</td>\n",
       "      <td>7.186155e-28</td>\n",
       "    </tr>\n",
       "    <tr>\n",
       "      <th>ib-run-id</th>\n",
       "      <td>1.923431e-03</td>\n",
       "      <td>4.826021e-01</td>\n",
       "      <td>2.943295e-02</td>\n",
       "      <td>1.092369e-05</td>\n",
       "      <td>3.955076e-01</td>\n",
       "      <td>5.258125e-09</td>\n",
       "      <td>8.119027e-08</td>\n",
       "      <td>5.190733e-29</td>\n",
       "      <td>2.409418e-31</td>\n",
       "      <td>3.008175e-31</td>\n",
       "      <td>1.433904e-32</td>\n",
       "    </tr>\n",
       "    <tr>\n",
       "      <th>hac-run-id</th>\n",
       "      <td>1.169322e-02</td>\n",
       "      <td>5.050252e-01</td>\n",
       "      <td>2.954534e-02</td>\n",
       "      <td>1.149390e-05</td>\n",
       "      <td>3.701495e-01</td>\n",
       "      <td>2.035786e-08</td>\n",
       "      <td>7.779579e-08</td>\n",
       "      <td>5.304976e-29</td>\n",
       "      <td>3.113688e-31</td>\n",
       "      <td>6.137915e-32</td>\n",
       "      <td>2.654254e-31</td>\n",
       "    </tr>\n",
       "    <tr>\n",
       "      <th>event_success_time</th>\n",
       "      <td>2.934528e-02</td>\n",
       "      <td>6.953250e-01</td>\n",
       "      <td>1.187537e-01</td>\n",
       "      <td>3.109890e-05</td>\n",
       "      <td>4.639959e-02</td>\n",
       "      <td>8.109473e-04</td>\n",
       "      <td>6.194418e-08</td>\n",
       "      <td>1.067275e-26</td>\n",
       "      <td>6.639012e-28</td>\n",
       "      <td>3.276651e-28</td>\n",
       "      <td>1.741210e-26</td>\n",
       "    </tr>\n",
       "    <tr>\n",
       "      <th>batch-workflow</th>\n",
       "      <td>1.505034e-01</td>\n",
       "      <td>7.174183e-01</td>\n",
       "      <td>9.824485e-01</td>\n",
       "      <td>9.999501e-01</td>\n",
       "      <td>7.948605e-02</td>\n",
       "      <td>2.800751e-05</td>\n",
       "      <td>4.565017e-06</td>\n",
       "      <td>1.663717e-27</td>\n",
       "      <td>1.781079e-29</td>\n",
       "      <td>2.017465e-29</td>\n",
       "      <td>6.815417e-28</td>\n",
       "    </tr>\n",
       "    <tr>\n",
       "      <th>business-day</th>\n",
       "      <td>9.696200e-01</td>\n",
       "      <td>5.607030e-01</td>\n",
       "      <td>3.131971e-02</td>\n",
       "      <td>1.774115e-05</td>\n",
       "      <td>7.932056e-01</td>\n",
       "      <td>9.999787e-01</td>\n",
       "      <td>9.999197e-01</td>\n",
       "      <td>1.000000e+00</td>\n",
       "      <td>1.000000e+00</td>\n",
       "      <td>1.000000e+00</td>\n",
       "      <td>1.000000e+00</td>\n",
       "    </tr>\n",
       "    <tr>\n",
       "      <th>flow-type</th>\n",
       "      <td>9.587956e-01</td>\n",
       "      <td>3.621978e-02</td>\n",
       "      <td>5.566042e-04</td>\n",
       "      <td>9.319922e-07</td>\n",
       "      <td>2.922711e-03</td>\n",
       "      <td>2.149754e-07</td>\n",
       "      <td>1.114171e-11</td>\n",
       "      <td>2.621564e-30</td>\n",
       "      <td>2.016748e-31</td>\n",
       "      <td>8.485332e-32</td>\n",
       "      <td>4.590663e-30</td>\n",
       "    </tr>\n",
       "    <tr>\n",
       "      <th>processing-location</th>\n",
       "      <td>1.505034e-01</td>\n",
       "      <td>7.174183e-01</td>\n",
       "      <td>9.824485e-01</td>\n",
       "      <td>9.999501e-01</td>\n",
       "      <td>7.948605e-02</td>\n",
       "      <td>2.800751e-05</td>\n",
       "      <td>4.565017e-06</td>\n",
       "      <td>1.663717e-27</td>\n",
       "      <td>1.781079e-29</td>\n",
       "      <td>2.017465e-29</td>\n",
       "      <td>6.815417e-28</td>\n",
       "    </tr>\n",
       "    <tr>\n",
       "      <th>regulatory-approaches</th>\n",
       "      <td>2.116764e-34</td>\n",
       "      <td>2.634484e-33</td>\n",
       "      <td>1.298990e-32</td>\n",
       "      <td>2.854778e-33</td>\n",
       "      <td>2.681636e-33</td>\n",
       "      <td>8.801898e-34</td>\n",
       "      <td>6.963151e-35</td>\n",
       "      <td>2.258293e-33</td>\n",
       "      <td>2.236314e-33</td>\n",
       "      <td>1.307741e-33</td>\n",
       "      <td>6.451771e-33</td>\n",
       "    </tr>\n",
       "    <tr>\n",
       "      <th>rules-branch</th>\n",
       "      <td>9.587956e-01</td>\n",
       "      <td>3.621978e-02</td>\n",
       "      <td>5.566042e-04</td>\n",
       "      <td>9.319922e-07</td>\n",
       "      <td>2.922711e-03</td>\n",
       "      <td>2.149754e-07</td>\n",
       "      <td>1.114171e-11</td>\n",
       "      <td>2.621564e-30</td>\n",
       "      <td>2.016748e-31</td>\n",
       "      <td>8.485332e-32</td>\n",
       "      <td>4.590663e-30</td>\n",
       "    </tr>\n",
       "    <tr>\n",
       "      <th>skip-mdl-out</th>\n",
       "      <td>9.587956e-01</td>\n",
       "      <td>3.621978e-02</td>\n",
       "      <td>5.566042e-04</td>\n",
       "      <td>9.319922e-07</td>\n",
       "      <td>2.922711e-03</td>\n",
       "      <td>2.149754e-07</td>\n",
       "      <td>1.114171e-11</td>\n",
       "      <td>2.621564e-30</td>\n",
       "      <td>2.016748e-31</td>\n",
       "      <td>8.485332e-32</td>\n",
       "      <td>4.590663e-30</td>\n",
       "    </tr>\n",
       "  </tbody>\n",
       "</table>\n",
       "</div>"
      ],
      "text/plain": [
       "component                        0             1             2             3   \\\n",
       "variable                                                                        \n",
       "batch-instance-seq     3.017140e-05  1.933628e-04  5.625723e-03  1.921728e-03   \n",
       "ib-run-id              1.923431e-03  4.826021e-01  2.943295e-02  1.092369e-05   \n",
       "hac-run-id             1.169322e-02  5.050252e-01  2.954534e-02  1.149390e-05   \n",
       "event_success_time     2.934528e-02  6.953250e-01  1.187537e-01  3.109890e-05   \n",
       "batch-workflow         1.505034e-01  7.174183e-01  9.824485e-01  9.999501e-01   \n",
       "business-day           9.696200e-01  5.607030e-01  3.131971e-02  1.774115e-05   \n",
       "flow-type              9.587956e-01  3.621978e-02  5.566042e-04  9.319922e-07   \n",
       "processing-location    1.505034e-01  7.174183e-01  9.824485e-01  9.999501e-01   \n",
       "regulatory-approaches  2.116764e-34  2.634484e-33  1.298990e-32  2.854778e-33   \n",
       "rules-branch           9.587956e-01  3.621978e-02  5.566042e-04  9.319922e-07   \n",
       "skip-mdl-out           9.587956e-01  3.621978e-02  5.566042e-04  9.319922e-07   \n",
       "\n",
       "component                        4             5             6             7   \\\n",
       "variable                                                                        \n",
       "batch-instance-seq     2.473966e-04  8.657089e-07  8.264107e-04  4.516209e-25   \n",
       "ib-run-id              3.955076e-01  5.258125e-09  8.119027e-08  5.190733e-29   \n",
       "hac-run-id             3.701495e-01  2.035786e-08  7.779579e-08  5.304976e-29   \n",
       "event_success_time     4.639959e-02  8.109473e-04  6.194418e-08  1.067275e-26   \n",
       "batch-workflow         7.948605e-02  2.800751e-05  4.565017e-06  1.663717e-27   \n",
       "business-day           7.932056e-01  9.999787e-01  9.999197e-01  1.000000e+00   \n",
       "flow-type              2.922711e-03  2.149754e-07  1.114171e-11  2.621564e-30   \n",
       "processing-location    7.948605e-02  2.800751e-05  4.565017e-06  1.663717e-27   \n",
       "regulatory-approaches  2.681636e-33  8.801898e-34  6.963151e-35  2.258293e-33   \n",
       "rules-branch           2.922711e-03  2.149754e-07  1.114171e-11  2.621564e-30   \n",
       "skip-mdl-out           2.922711e-03  2.149754e-07  1.114171e-11  2.621564e-30   \n",
       "\n",
       "component                        8             9             10  \n",
       "variable                                                         \n",
       "batch-instance-seq     5.255289e-28  5.217056e-28  7.186155e-28  \n",
       "ib-run-id              2.409418e-31  3.008175e-31  1.433904e-32  \n",
       "hac-run-id             3.113688e-31  6.137915e-32  2.654254e-31  \n",
       "event_success_time     6.639012e-28  3.276651e-28  1.741210e-26  \n",
       "batch-workflow         1.781079e-29  2.017465e-29  6.815417e-28  \n",
       "business-day           1.000000e+00  1.000000e+00  1.000000e+00  \n",
       "flow-type              2.016748e-31  8.485332e-32  4.590663e-30  \n",
       "processing-location    1.781079e-29  2.017465e-29  6.815417e-28  \n",
       "regulatory-approaches  2.236314e-33  1.307741e-33  6.451771e-33  \n",
       "rules-branch           2.016748e-31  8.485332e-32  4.590663e-30  \n",
       "skip-mdl-out           2.016748e-31  8.485332e-32  4.590663e-30  "
      ]
     },
     "execution_count": 208,
     "metadata": {},
     "output_type": "execute_result"
    }
   ],
   "source": [
    "famd.column_coordinates_"
   ]
  },
  {
   "cell_type": "code",
   "execution_count": null,
   "metadata": {},
   "outputs": [],
   "source": []
  }
 ],
 "metadata": {
  "kernelspec": {
   "display_name": "Python 3",
   "language": "python",
   "name": "python3"
  },
  "language_info": {
   "codemirror_mode": {
    "name": "ipython",
    "version": 3
   },
   "file_extension": ".py",
   "mimetype": "text/x-python",
   "name": "python",
   "nbconvert_exporter": "python",
   "pygments_lexer": "ipython3",
   "version": "3.9.10"
  },
  "orig_nbformat": 4
 },
 "nbformat": 4,
 "nbformat_minor": 2
}
