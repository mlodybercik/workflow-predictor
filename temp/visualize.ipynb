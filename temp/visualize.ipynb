{
 "cells": [
  {
   "cell_type": "code",
   "execution_count": 1,
   "metadata": {},
   "outputs": [],
   "source": [
    "import pandas as pd\n",
    "import matplotlib.pyplot as plt\n",
    "import numpy as np\n",
    "import sklearn.preprocessing as sk_pre\n",
    "import sklearn.decomposition as sk_dec\n",
    "import sklearn.model_selection as sk_mos\n",
    "import sklearn.neural_network as sk_nn"
   ]
  },
  {
   "cell_type": "code",
   "execution_count": 2,
   "metadata": {},
   "outputs": [],
   "source": [
    "maestro_data = pd.read_csv(\"../data/maestro-calculated.csv\", low_memory=False)"
   ]
  },
  {
   "cell_type": "code",
   "execution_count": 3,
   "metadata": {},
   "outputs": [
    {
     "data": {
      "text/plain": [
       "Index(['regulatory-approaches', 'ib-run-id', 'rules-branch',\n",
       "       'processing-location-is-eur', 'event-total-time', 'workflow_name',\n",
       "       'event-processing-time', 'skip-mdl-out', 'business_date', 'setenv',\n",
       "       'chf-usd-rate', 'parent_uid', 'kafka_offset', 'uid', 'api-version',\n",
       "       'bsinp-run-id', 'processing-location-is-sec',\n",
       "       'processing-location-is-pac', 'rd-run-id', 'source-type-is-ib',\n",
       "       'scenario-workflow', 'business-day', 'event-waiting-time',\n",
       "       'processing-location-is-ch', 'batch-instance-seq',\n",
       "       'processing-location-is-ams', 'batch-workflow', 'as-of-date',\n",
       "       'pb-run-id', 'job_name', 'as-of-datetime', 'source-type-is-pb',\n",
       "       'process-flag', 'failed-job-status', 'flow-type', 'correlation-id',\n",
       "       'hac-run-id', 'business-date', 'skip-mdl-landing'],\n",
       "      dtype='object')"
      ]
     },
     "execution_count": 3,
     "metadata": {},
     "output_type": "execute_result"
    }
   ],
   "source": [
    "maestro_data.columns"
   ]
  },
  {
   "cell_type": "code",
   "execution_count": 4,
   "metadata": {},
   "outputs": [
    {
     "name": "stdout",
     "output_type": "stream",
     "text": [
      "['BD0' 'BD1' 'BD2' 'BD3' 'BD4' 'BD5' nan 'BD6' 'BD7' 'BD8' 'BD9']\n"
     ]
    }
   ],
   "source": [
    "jobs = maestro_data[\"job_name\"].unique()\n",
    "business_day = maestro_data[\"business-day\"].unique()\n",
    "print(business_day)"
   ]
  },
  {
   "cell_type": "code",
   "execution_count": 5,
   "metadata": {},
   "outputs": [
    {
     "data": {
      "text/plain": [
       "'run-b3std-calculation'"
      ]
     },
     "execution_count": 5,
     "metadata": {},
     "output_type": "execute_result"
    }
   ],
   "source": [
    "jobs[16]"
   ]
  },
  {
   "cell_type": "code",
   "execution_count": 52,
   "metadata": {},
   "outputs": [
    {
     "data": {
      "image/png": "[encoded data removed]",
      "text/plain": [
       "<Figure size 2200x200 with 10 Axes>"
      ]
     },
     "metadata": {},
     "output_type": "display_data"
    }
   ],
   "source": [
    "N = 16\n",
    "COLUMN_NAME = \"event-processing-time\"\n",
    "fig, ax = plt.subplots(1, 10, figsize=(2*len(business_day), 2), sharey=True, sharex=True)\n",
    "for i, bd in enumerate([f\"BD{i}\" for i in range(10)]):\n",
    "    ax[i].xaxis.set_visible(False)\n",
    "    arr = maestro_data.filter(like=COLUMN_NAME)[(maestro_data[\"job_name\"] == jobs[N]) & (maestro_data[\"business-day\"] == bd)]\n",
    "    nparr = arr.to_numpy()\n",
    "    try:\n",
    "        q01, q99 = np.quantile(nparr, 0.05), np.quantile(nparr, 0.95)\n",
    "        ax[i].violinplot(arr[(q01 <= arr[COLUMN_NAME]) & (arr[COLUMN_NAME] <= q99)], range(1), showmeans=True)\n",
    "    except:\n",
    "        print(f\"{jobs[N]}, has no entries for BD == {bd}\")"
   ]
  },
  {
   "cell_type": "code",
   "execution_count": 44,
   "metadata": {},
   "outputs": [
    {
     "name": "stdout",
     "output_type": "stream",
     "text": [
      "Starting job: open-date-card, q05: 0.0, q95: 3.98, mean: 0.3232, len: 393\n",
      "Starting job: init-strategic-batch, q05: 0.0, q95: 4.0, mean: 1.068, len: 398\n",
      "Starting job: start-strategic-batch, q05: 0.0, q95: 3.0, mean: 0.7512, len: 402\n",
      "Starting job: land-f1ref-data, q05: 30.0, q95: 72.58, mean: 47.31, len: 391\n",
      "Starting job: reload-f1ref-landing-tables, q05: 29.0, q95: 210.1, mean: 67.15, len: 391\n",
      "Starting job: land-f1mdl-data, q05: 337.1, q95: 2.36e+03, mean: 1.061e+03, len: 388\n",
      "Starting job: run-data-staging, q05: 178.0, q95: 1.427e+03, mean: 592.2, len: 388\n",
      "Starting job: reload-f1mdl-landing-tables, q05: 339.7, q95: 1.135e+03, mean: 647.6, len: 388\n",
      "Starting job: run-data-harmonization, q05: 223.2, q95: 1.883e+03, mean: 1.008e+03, len: 392\n",
      "Starting job: reload-staging-tables, q05: 250.1, q95: 790.8, mean: 497.0, len: 387\n",
      "Starting job: complete-strategic-harmonization-job, q05: 0.0, q95: 2.0, mean: 0.3915, len: 401\n",
      "Starting job: reload-harmonized-reference-tables, q05: 109.0, q95: 365.1, mean: 177.9, len: 392\n",
      "Starting job: run-b3-calculation, q05: 289.3, q95: 2.065e+03, mean: 696.7, len: 386\n",
      "Starting job: reload-harmonized-non-reference-tables, q05: 442.6, q95: 1.488e+03, mean: 1.022e+03, len: 391\n",
      "Skipping job: b3-calc-completed, q05: 0.0, q95: 0.0, mean: 0.0, len: 401\n",
      "Starting job: run-b3ler-calculation, q05: 259.0, q95: 2.477e+03, mean: 739.3, len: 387\n",
      "Starting job: run-b3std-calculation, q05: 324.1, q95: 4.08e+03, mean: 1.015e+03, len: 386\n",
      "Starting job: mdl-out-b3, q05: 158.0, q95: 1.683e+03, mean: 463.1, len: 387\n",
      "Starting job: reload-b3-tables, q05: 286.0, q95: 707.1, mean: 433.6, len: 390\n",
      "Skipping job: complete-b3-strategic-batch, q05: 0.0, q95: 0.0, mean: 0.0, len: 400\n",
      "Starting job: mdl-out-ler, q05: 163.0, q95: 1.486e+03, mean: 469.9, len: 386\n",
      "Starting job: reload-b3ler-tables, q05: 252.4, q95: 757.9, mean: 355.3, len: 386\n",
      "Starting job: strategic-calc-completed, q05: 0.0, q95: 2.0, mean: 0.402, len: 398\n",
      "Starting job: run-collateral-utilization, q05: 90.04, q95: 470.0, mean: 206.9, len: 386\n",
      "Starting job: mdl-out-b3std, q05: 163.1, q95: 1.348e+03, mean: 441.8, len: 385\n",
      "Starting job: reload-b3std-tables, q05: 228.0, q95: 625.2, mean: 320.7, len: 387\n",
      "Starting job: reload-b3-audit, q05: 56.0, q95: 901.8, mean: 355.8, len: 390\n",
      "Starting job: reload-collateral-utilization, q05: 113.1, q95: 320.9, mean: 156.7, len: 385\n",
      "Starting job: complete-strategic-batch, q05: 0.0, q95: 2.0, mean: 0.5514, len: 399\n",
      "Starting job: reload-b3std-audit, q05: 55.0, q95: 842.0, mean: 363.0, len: 392\n",
      "Starting job: reload-b3ler-audit, q05: 56.0, q95: 950.3, mean: 379.6, len: 390\n",
      "Starting job: f1-notification-trigger, q05: 0.0, q95: 1.0, mean: 0.03741, len: 401\n",
      "Starting job: run-b3lech-calculation, q05: 437.0, q95: 1.993e+03, mean: 672.4, len: 267\n",
      "Starting job: mdl-out-lech, q05: 225.1, q95: 1.58e+03, mean: 458.9, len: 265\n",
      "Starting job: reload-b3lech-tables, q05: 225.7, q95: 632.2, mean: 339.6, len: 266\n",
      "Starting job: reload-b3lech-audit, q05: 305.2, q95: 836.3, mean: 450.4, len: 268\n",
      "Skipping job: skip-regional-batches, q05: 0.0, q95: 0.0, mean: 0.0, len: 148\n",
      "Starting job: init-securitization-batch, q05: 0.0, q95: 1.92, mean: 0.6026, len: 151\n",
      "Starting job: start-securitization-batch, q05: 0.0, q95: 3.0, mean: 0.982, len: 167\n",
      "Starting job: run-sec-tactical-staging, q05: 337.7, q95: 700.3, mean: 492.0, len: 160\n",
      "Starting job: run-b3-securitization, q05: 310.8, q95: 1.383e+03, mean: 596.8, len: 162\n",
      "Starting job: mdl-out-b3-with-securitization, q05: 133.6, q95: 939.0, mean: 306.9, len: 158\n",
      "Starting job: reload-securitization-tables-b3, q05: 412.0, q95: 1.203e+03, mean: 747.2, len: 164\n",
      "Starting job: complete-b3-securitization-batch, q05: 0.0, q95: 1.0, mean: 0.0303, len: 165\n",
      "Skipping job: complete-strategic-batch-sec, q05: 0.0, q95: 0.0, mean: 0.0, len: 151\n",
      "Starting job: run-lech-securitization, q05: 149.6, q95: 1.268e+03, mean: 478.3, len: 175\n",
      "Starting job: run-b3std-securitization, q05: 262.9, q95: 1.109e+03, mean: 538.7, len: 176\n",
      "Starting job: mdl-out-lech-with-securitization, q05: 68.52, q95: 941.8, mean: 292.1, len: 169\n",
      "Starting job: reload-securitization-tables-lech, q05: 75.64, q95: 1.072e+03, mean: 589.6, len: 175\n",
      "Starting job: mdl-out-b3std-with-securitization, q05: 129.6, q95: 674.2, mean: 273.8, len: 171\n",
      "Starting job: reload-securitization-tables-b3std, q05: 408.7, q95: 1.185e+03, mean: 719.4, len: 176\n",
      "Starting job: complete-securitization-batch, q05: 0.0, q95: 2.0, mean: 0.5333, len: 180\n",
      "Starting job: reload-tactical-tables-post-securitization, q05: 72.6, q95: 283.0, mean: 122.9, len: 173\n",
      "Starting job: run-b3lvr-calculation, q05: 1.315e+03, q95: 2.665e+03, mean: 2.206e+03, len: 23\n",
      "Starting job: reload-b3lvr-tables, q05: 155.0, q95: 736.8, mean: 222.7, len: 23\n",
      "Starting job: mdl-out-lvr, q05: 776.9, q95: 1.505e+03, mean: 1.162e+03, len: 22\n",
      "Starting job: reload-b3lvr-audit, q05: 338.8, q95: 739.1, mean: 505.3, len: 23\n",
      "Starting job: run-lvr-securitization, q05: 534.0, q95: 935.9, mean: 628.0, len: 30\n",
      "Starting job: mdl-out-lvr-with-securitization, q05: 76.32, q95: 538.8, mean: 354.5, len: 55\n",
      "Starting job: reload-securitization-tables-lvr, q05: 435.1, q95: 1.152e+03, mean: 550.9, len: 55\n"
     ]
    }
   ],
   "source": [
    "job_name = dict.fromkeys(jobs, 0)\n",
    "\n",
    "# columns_label = {\n",
    "#     \"skip-mdl-out\", \"batch-workflow\", \"flow-type\",\n",
    "#     \"rules-branch\", \"business-day\", \"batch-instance-seq\", \"ib-run-id\",\n",
    "#     \"hac-run-id\", \"regulatory-approaches\"\n",
    "# }\n",
    "columns_label = {\n",
    "    'regulatory-approaches', 'ib-run-id', 'rules-branch',\n",
    "    'processing-location-is-eur', 'event-total-time', 'skip-mdl-out', 'business_date',\n",
    "    'setenv', 'bsinp-run-id', 'processing-location-is-sec',\n",
    "    'processing-location-is-pac', 'rd-run-id', 'source-type-is-ib',\n",
    "    'business-day', 'processing-location-is-ch', 'batch-instance-seq',\n",
    "    'processing-location-is-ams', 'batch-workflow',\n",
    "    'pb-run-id', 'source-type-is-pb', 'process-flag', 'flow-type',\n",
    "    'hac-run-id', 'skip-mdl-landing'\n",
    "}\n",
    "# \"event_success_time\"\n",
    "for job in jobs:\n",
    "    labelizer = dict.fromkeys(columns_label, None)\n",
    "    maestro_cut = maestro_data[list(columns_label) + [\"event-processing-time\"]][maestro_data[\"job_name\"] == job].copy()\n",
    "    maestro_times = maestro_cut.pop(\"event-processing-time\").astype(float)\n",
    "\n",
    "    q05, q95 = maestro_times.quantile(0.02), maestro_times.quantile(0.98)\n",
    "    cut = maestro_times[(maestro_times >= q05) & (maestro_times <= q95)]\n",
    "    mean = cut.mean()\n",
    "    maestro_times /= mean\n",
    "    if mean == 0:\n",
    "        print(f'Skipping job: {job}, q05: {q05:.04}, q95: {q95:.04}, mean: {mean:.04}, len: {len(cut)}')\n",
    "        continue\n",
    "    print(f'Starting job: {job}, q05: {q05:.04}, q95: {q95:.04}, mean: {mean:.04}, len: {len(cut)}')\n",
    "\n",
    "    for i, item in enumerate(list(columns_label)):\n",
    "        labelizer[item] = sk_pre.LabelEncoder()\n",
    "        labelizer[item].fit(list(set(maestro_cut[item])))\n",
    "        maestro_cut[item] = labelizer[item].fit_transform(maestro_cut[item])\n",
    "\n",
    "    x_train, x_test, y_train, y_test = sk_mos.train_test_split(maestro_cut, maestro_times)\n",
    "\n",
    "    nn = sk_nn.MLPRegressor(max_iter=10_000, hidden_layer_sizes=[1000, 100])\n",
    "    nn.fit(x_train, y_train)\n",
    "\n",
    "    job_name[job] = nn.score(x_test, y_test)"
   ]
  },
  {
   "cell_type": "code",
   "execution_count": 45,
   "metadata": {},
   "outputs": [
    {
     "data": {
      "text/plain": [
       "(-1.0, 1.0)"
      ]
     },
     "execution_count": 45,
     "metadata": {},
     "output_type": "execute_result"
    },
    {
     "data": {
      "image/png": "[encoded data removed]",
      "text/plain": [
       "<Figure size 640x480 with 1 Axes>"
      ]
     },
     "metadata": {},
     "output_type": "display_data"
    }
   ],
   "source": [
    "plt.bar(range(len(jobs)), job_name.values(), 1)\n",
    "plt.ylim(-1, 1)"
   ]
  },
  {
   "cell_type": "code",
   "execution_count": 34,
   "metadata": {},
   "outputs": [
    {
     "data": {
      "text/plain": [
       "array(['reload-securitization-tables-b3std',\n",
       "       'complete-securitization-batch',\n",
       "       'reload-tactical-tables-post-securitization',\n",
       "       'run-b3lvr-calculation', 'reload-b3lvr-tables', 'mdl-out-lvr',\n",
       "       'reload-b3lvr-audit', 'run-lvr-securitization',\n",
       "       'mdl-out-lvr-with-securitization',\n",
       "       'reload-securitization-tables-lvr'], dtype=object)"
      ]
     },
     "execution_count": 34,
     "metadata": {},
     "output_type": "execute_result"
    }
   ],
   "source": [
    "jobs[-10:]"
   ]
  },
  {
   "cell_type": "code",
   "execution_count": 32,
   "metadata": {},
   "outputs": [
    {
     "data": {
      "text/plain": [
       "60"
      ]
     },
     "execution_count": 32,
     "metadata": {},
     "output_type": "execute_result"
    }
   ],
   "source": []
  },
  {
   "cell_type": "code",
   "execution_count": 48,
   "metadata": {},
   "outputs": [
    {
     "data": {
      "text/plain": [
       "0.49964020536419174"
      ]
     },
     "execution_count": 48,
     "metadata": {},
     "output_type": "execute_result"
    }
   ],
   "source": [
    "np.clip(list(job_name.values()), 0, 1).mean()"
   ]
  },
  {
   "cell_type": "code",
   "execution_count": null,
   "metadata": {},
   "outputs": [],
   "source": []
  }
 ],
 "metadata": {
  "kernelspec": {
   "display_name": "Python 3",
   "language": "python",
   "name": "python3"
  },
  "language_info": {
   "codemirror_mode": {
    "name": "ipython",
    "version": 3
   },
   "file_extension": ".py",
   "mimetype": "text/x-python",
   "name": "python",
   "nbconvert_exporter": "python",
   "pygments_lexer": "ipython3",
   "version": "3.9.10"
  },
  "orig_nbformat": 4
 },
 "nbformat": 4,
 "nbformat_minor": 2
}
